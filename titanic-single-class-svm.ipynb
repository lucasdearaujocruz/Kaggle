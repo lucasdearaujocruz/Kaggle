{
 "cells": [
  {
   "cell_type": "code",
   "execution_count": 1,
   "id": "3015e68e",
   "metadata": {
    "_cell_guid": "91ffd725-2222-4fc9-aa2a-388dbf7d25f4",
    "_uuid": "4f7b661e-a4e6-484b-a6da-a9e17e04bbab",
    "collapsed": false,
    "execution": {
     "iopub.execute_input": "2022-06-14T02:49:07.316236Z",
     "iopub.status.busy": "2022-06-14T02:49:07.315630Z",
     "iopub.status.idle": "2022-06-14T02:49:08.703907Z",
     "shell.execute_reply": "2022-06-14T02:49:08.702788Z"
    },
    "jupyter": {
     "outputs_hidden": false
    },
    "papermill": {
     "duration": 1.397243,
     "end_time": "2022-06-14T02:49:08.706534",
     "exception": false,
     "start_time": "2022-06-14T02:49:07.309291",
     "status": "completed"
    },
    "tags": []
   },
   "outputs": [],
   "source": [
    "import numpy as np\n",
    "import pandas as pd\n",
    "from sklearn.svm import OneClassSVM\n",
    "from sklearn import preprocessing\n",
    "from sklearn.model_selection import train_test_split, RandomizedSearchCV\n",
    "from scipy.stats import uniform\n",
    "from sklearn.pipeline import make_pipeline\n",
    "from sklearn.preprocessing import StandardScaler\n",
    "\n",
    "\n",
    "import matplotlib.pyplot as plt"
   ]
  },
  {
   "cell_type": "code",
   "execution_count": 2,
   "id": "d9b6da38",
   "metadata": {
    "_cell_guid": "8eb6f3d1-ec2c-4692-affb-a7c922e5ccc9",
    "_uuid": "94331425-fe83-466d-aa47-95a1358c98f9",
    "collapsed": false,
    "execution": {
     "iopub.execute_input": "2022-06-14T02:49:08.717038Z",
     "iopub.status.busy": "2022-06-14T02:49:08.715970Z",
     "iopub.status.idle": "2022-06-14T02:49:08.733131Z",
     "shell.execute_reply": "2022-06-14T02:49:08.732029Z"
    },
    "jupyter": {
     "outputs_hidden": false
    },
    "papermill": {
     "duration": 0.024817,
     "end_time": "2022-06-14T02:49:08.735608",
     "exception": false,
     "start_time": "2022-06-14T02:49:08.710791",
     "status": "completed"
    },
    "tags": []
   },
   "outputs": [],
   "source": [
    "class dataset_builder():\n",
    "    def __init__(self, train_mode=True) -> None:\n",
    "        if train_mode:\n",
    "            data = pd.read_csv(\"../input/titanic/train.csv\")\n",
    "            _, labels, feats  = self.preprocess(data, train_mode=True)\n",
    "            self.X_train, self.X_valid, self.y_train, self.y_valid = train_test_split(feats, labels, test_size=0.2, random_state=42, stratify=labels, shuffle=True)\n",
    "            \n",
    "        else:\n",
    "            data = pd.read_csv(\"../input/titanic/test.csv\")\n",
    "            self.ids, self.X_test  = self.preprocess(data, train_mode=False)\n",
    "        \n",
    "    def preprocess(self, data, train_mode=True):\n",
    "        data.fillna(\"missing\", inplace=True)\n",
    "        data[\"cabin_deck\"] = data[\"Cabin\"].apply(lambda x: x[0] if x != \"missing\" else \"missing\")\n",
    "        data[\"Sex\"].replace({\"missing\": 0, \"male\": 1, \"female\": 2}, inplace=True)\n",
    "        data[\"Embarked\"].replace({\"missing\": 0, \"S\": 1, \"C\": 2, \"Q\": 3}, inplace=True)\n",
    "        data[\"Age\"].replace({\"missing\": 0}, inplace=True)\n",
    "        data[\"Fare\"].replace({\"missing\": 0}, inplace=True)\n",
    "        data[\"cabin_deck\"].replace({\"missing\": 0,\n",
    "                                     \"A\": 1,\n",
    "                                     \"B\": 2,\n",
    "                                     \"C\": 3,\n",
    "                                     \"D\": 4,\n",
    "                                     \"E\": 5,\n",
    "                                     \"F\": 6,\n",
    "                                     \"G\": 7,\n",
    "                                     \"T\": 8}, inplace=True)\n",
    "        data.drop([\"Ticket\", \"Name\", \"Cabin\"], axis=1, inplace=True)\n",
    "        \n",
    "        ids = data.pop(\"PassengerId\").to_numpy()\n",
    "        # self.dataframe = train\n",
    "        if train_mode:\n",
    "            labels = data.pop(\"Survived\").to_numpy()\n",
    "            features = data.astype(np.float32).to_numpy()\n",
    "            return ids, labels, features\n",
    "        else:\n",
    "            #labels = np.zeros(self.ids.shape)\n",
    "            features = data.astype(np.float32).to_numpy()\n",
    "            return ids, features\n",
    "        \n",
    "        "
   ]
  },
  {
   "cell_type": "code",
   "execution_count": 3,
   "id": "81f1e731",
   "metadata": {
    "execution": {
     "iopub.execute_input": "2022-06-14T02:49:08.744845Z",
     "iopub.status.busy": "2022-06-14T02:49:08.743825Z",
     "iopub.status.idle": "2022-06-14T02:49:10.764024Z",
     "shell.execute_reply": "2022-06-14T02:49:10.762640Z"
    },
    "papermill": {
     "duration": 2.027517,
     "end_time": "2022-06-14T02:49:10.766685",
     "exception": false,
     "start_time": "2022-06-14T02:49:08.739168",
     "status": "completed"
    },
    "tags": []
   },
   "outputs": [
    {
     "name": "stdout",
     "output_type": "stream",
     "text": [
      "Pipeline(steps=[('standardscaler', StandardScaler()),\n",
      "                ('oneclasssvm', OneClassSVM())])\n"
     ]
    }
   ],
   "source": [
    "dataset = dataset_builder()\n",
    "X_train = dataset.X_train\n",
    "X_valid = dataset.X_valid\n",
    "y_train = np.where(dataset.y_train, 1.0, -1.0)\n",
    "y_valid = np.where(dataset.y_valid, 1.0, -1.0)\n",
    "\n",
    "pipe = make_pipeline(StandardScaler(), OneClassSVM())\n",
    "print(pipe)\n",
    "distributions = {\n",
    "    'oneclasssvm__nu':uniform(loc=0.01, scale=0.9),\n",
    "    'oneclasssvm__kernel':['rbf', 'sigmoid'],\n",
    "    'oneclasssvm__gamma':['scale', 'auto']\n",
    "}\n",
    "clf = RandomizedSearchCV(pipe, distributions, random_state=42, scoring='f1', n_jobs=-1, cv=5, return_train_score=True)\n",
    "search = clf.fit(X_train, y_train)"
   ]
  },
  {
   "cell_type": "code",
   "execution_count": 4,
   "id": "0becb906",
   "metadata": {
    "execution": {
     "iopub.execute_input": "2022-06-14T02:49:10.777478Z",
     "iopub.status.busy": "2022-06-14T02:49:10.775335Z",
     "iopub.status.idle": "2022-06-14T02:49:10.822750Z",
     "shell.execute_reply": "2022-06-14T02:49:10.821638Z"
    },
    "papermill": {
     "duration": 0.054363,
     "end_time": "2022-06-14T02:49:10.824740",
     "exception": false,
     "start_time": "2022-06-14T02:49:10.770377",
     "status": "completed"
    },
    "tags": []
   },
   "outputs": [
    {
     "data": {
      "text/html": [
       "<div>\n",
       "<style scoped>\n",
       "    .dataframe tbody tr th:only-of-type {\n",
       "        vertical-align: middle;\n",
       "    }\n",
       "\n",
       "    .dataframe tbody tr th {\n",
       "        vertical-align: top;\n",
       "    }\n",
       "\n",
       "    .dataframe thead th {\n",
       "        text-align: right;\n",
       "    }\n",
       "</style>\n",
       "<table border=\"1\" class=\"dataframe\">\n",
       "  <thead>\n",
       "    <tr style=\"text-align: right;\">\n",
       "      <th></th>\n",
       "      <th>mean_fit_time</th>\n",
       "      <th>std_fit_time</th>\n",
       "      <th>mean_score_time</th>\n",
       "      <th>std_score_time</th>\n",
       "      <th>param_oneclasssvm__gamma</th>\n",
       "      <th>param_oneclasssvm__kernel</th>\n",
       "      <th>param_oneclasssvm__nu</th>\n",
       "      <th>params</th>\n",
       "      <th>split0_test_score</th>\n",
       "      <th>split1_test_score</th>\n",
       "      <th>...</th>\n",
       "      <th>mean_test_score</th>\n",
       "      <th>std_test_score</th>\n",
       "      <th>rank_test_score</th>\n",
       "      <th>split0_train_score</th>\n",
       "      <th>split1_train_score</th>\n",
       "      <th>split2_train_score</th>\n",
       "      <th>split3_train_score</th>\n",
       "      <th>split4_train_score</th>\n",
       "      <th>mean_train_score</th>\n",
       "      <th>std_train_score</th>\n",
       "    </tr>\n",
       "  </thead>\n",
       "  <tbody>\n",
       "    <tr>\n",
       "      <th>2</th>\n",
       "      <td>0.015666</td>\n",
       "      <td>0.000532</td>\n",
       "      <td>0.003841</td>\n",
       "      <td>0.000326</td>\n",
       "      <td>scale</td>\n",
       "      <td>sigmoid</td>\n",
       "      <td>0.150395</td>\n",
       "      <td>{'oneclasssvm__gamma': 'scale', 'oneclasssvm__...</td>\n",
       "      <td>0.595238</td>\n",
       "      <td>0.511364</td>\n",
       "      <td>...</td>\n",
       "      <td>0.535198</td>\n",
       "      <td>0.036694</td>\n",
       "      <td>1</td>\n",
       "      <td>0.533524</td>\n",
       "      <td>0.545455</td>\n",
       "      <td>0.540311</td>\n",
       "      <td>0.527817</td>\n",
       "      <td>0.545194</td>\n",
       "      <td>0.538460</td>\n",
       "      <td>0.006860</td>\n",
       "    </tr>\n",
       "    <tr>\n",
       "      <th>7</th>\n",
       "      <td>0.017149</td>\n",
       "      <td>0.000555</td>\n",
       "      <td>0.004157</td>\n",
       "      <td>0.000232</td>\n",
       "      <td>auto</td>\n",
       "      <td>sigmoid</td>\n",
       "      <td>0.175064</td>\n",
       "      <td>{'oneclasssvm__gamma': 'auto', 'oneclasssvm__k...</td>\n",
       "      <td>0.564417</td>\n",
       "      <td>0.502924</td>\n",
       "      <td>...</td>\n",
       "      <td>0.535106</td>\n",
       "      <td>0.024556</td>\n",
       "      <td>2</td>\n",
       "      <td>0.537226</td>\n",
       "      <td>0.539683</td>\n",
       "      <td>0.542569</td>\n",
       "      <td>0.534884</td>\n",
       "      <td>0.536657</td>\n",
       "      <td>0.538204</td>\n",
       "      <td>0.002669</td>\n",
       "    </tr>\n",
       "    <tr>\n",
       "      <th>6</th>\n",
       "      <td>0.019493</td>\n",
       "      <td>0.001876</td>\n",
       "      <td>0.004369</td>\n",
       "      <td>0.000174</td>\n",
       "      <td>auto</td>\n",
       "      <td>sigmoid</td>\n",
       "      <td>0.201105</td>\n",
       "      <td>{'oneclasssvm__gamma': 'auto', 'oneclasssvm__k...</td>\n",
       "      <td>0.550000</td>\n",
       "      <td>0.503067</td>\n",
       "      <td>...</td>\n",
       "      <td>0.527719</td>\n",
       "      <td>0.028364</td>\n",
       "      <td>3</td>\n",
       "      <td>0.528358</td>\n",
       "      <td>0.539823</td>\n",
       "      <td>0.537666</td>\n",
       "      <td>0.528975</td>\n",
       "      <td>0.531343</td>\n",
       "      <td>0.533233</td>\n",
       "      <td>0.004659</td>\n",
       "    </tr>\n",
       "    <tr>\n",
       "      <th>8</th>\n",
       "      <td>0.032528</td>\n",
       "      <td>0.000354</td>\n",
       "      <td>0.006690</td>\n",
       "      <td>0.000345</td>\n",
       "      <td>auto</td>\n",
       "      <td>sigmoid</td>\n",
       "      <td>0.482281</td>\n",
       "      <td>{'oneclasssvm__gamma': 'auto', 'oneclasssvm__k...</td>\n",
       "      <td>0.480620</td>\n",
       "      <td>0.578512</td>\n",
       "      <td>...</td>\n",
       "      <td>0.472020</td>\n",
       "      <td>0.059116</td>\n",
       "      <td>4</td>\n",
       "      <td>0.457031</td>\n",
       "      <td>0.458252</td>\n",
       "      <td>0.468085</td>\n",
       "      <td>0.494163</td>\n",
       "      <td>0.459725</td>\n",
       "      <td>0.467451</td>\n",
       "      <td>0.013906</td>\n",
       "    </tr>\n",
       "    <tr>\n",
       "      <th>9</th>\n",
       "      <td>0.015126</td>\n",
       "      <td>0.000586</td>\n",
       "      <td>0.004869</td>\n",
       "      <td>0.000665</td>\n",
       "      <td>auto</td>\n",
       "      <td>rbf</td>\n",
       "      <td>0.272106</td>\n",
       "      <td>{'oneclasssvm__gamma': 'auto', 'oneclasssvm__k...</td>\n",
       "      <td>0.510638</td>\n",
       "      <td>0.445860</td>\n",
       "      <td>...</td>\n",
       "      <td>0.452468</td>\n",
       "      <td>0.035151</td>\n",
       "      <td>5</td>\n",
       "      <td>0.440571</td>\n",
       "      <td>0.479751</td>\n",
       "      <td>0.455975</td>\n",
       "      <td>0.462992</td>\n",
       "      <td>0.473016</td>\n",
       "      <td>0.462461</td>\n",
       "      <td>0.013652</td>\n",
       "    </tr>\n",
       "  </tbody>\n",
       "</table>\n",
       "<p>5 rows × 23 columns</p>\n",
       "</div>"
      ],
      "text/plain": [
       "   mean_fit_time  std_fit_time  mean_score_time  std_score_time  \\\n",
       "2       0.015666      0.000532         0.003841        0.000326   \n",
       "7       0.017149      0.000555         0.004157        0.000232   \n",
       "6       0.019493      0.001876         0.004369        0.000174   \n",
       "8       0.032528      0.000354         0.006690        0.000345   \n",
       "9       0.015126      0.000586         0.004869        0.000665   \n",
       "\n",
       "  param_oneclasssvm__gamma param_oneclasssvm__kernel param_oneclasssvm__nu  \\\n",
       "2                    scale                   sigmoid              0.150395   \n",
       "7                     auto                   sigmoid              0.175064   \n",
       "6                     auto                   sigmoid              0.201105   \n",
       "8                     auto                   sigmoid              0.482281   \n",
       "9                     auto                       rbf              0.272106   \n",
       "\n",
       "                                              params  split0_test_score  \\\n",
       "2  {'oneclasssvm__gamma': 'scale', 'oneclasssvm__...           0.595238   \n",
       "7  {'oneclasssvm__gamma': 'auto', 'oneclasssvm__k...           0.564417   \n",
       "6  {'oneclasssvm__gamma': 'auto', 'oneclasssvm__k...           0.550000   \n",
       "8  {'oneclasssvm__gamma': 'auto', 'oneclasssvm__k...           0.480620   \n",
       "9  {'oneclasssvm__gamma': 'auto', 'oneclasssvm__k...           0.510638   \n",
       "\n",
       "   split1_test_score  ...  mean_test_score  std_test_score  rank_test_score  \\\n",
       "2           0.511364  ...         0.535198        0.036694                1   \n",
       "7           0.502924  ...         0.535106        0.024556                2   \n",
       "6           0.503067  ...         0.527719        0.028364                3   \n",
       "8           0.578512  ...         0.472020        0.059116                4   \n",
       "9           0.445860  ...         0.452468        0.035151                5   \n",
       "\n",
       "   split0_train_score  split1_train_score  split2_train_score  \\\n",
       "2            0.533524            0.545455            0.540311   \n",
       "7            0.537226            0.539683            0.542569   \n",
       "6            0.528358            0.539823            0.537666   \n",
       "8            0.457031            0.458252            0.468085   \n",
       "9            0.440571            0.479751            0.455975   \n",
       "\n",
       "   split3_train_score  split4_train_score  mean_train_score  std_train_score  \n",
       "2            0.527817            0.545194          0.538460         0.006860  \n",
       "7            0.534884            0.536657          0.538204         0.002669  \n",
       "6            0.528975            0.531343          0.533233         0.004659  \n",
       "8            0.494163            0.459725          0.467451         0.013906  \n",
       "9            0.462992            0.473016          0.462461         0.013652  \n",
       "\n",
       "[5 rows x 23 columns]"
      ]
     },
     "execution_count": 4,
     "metadata": {},
     "output_type": "execute_result"
    }
   ],
   "source": [
    "pd.DataFrame(search.cv_results_).sort_values('mean_test_score', ascending=False).head(5)"
   ]
  },
  {
   "cell_type": "code",
   "execution_count": 5,
   "id": "4abd16f4",
   "metadata": {
    "execution": {
     "iopub.execute_input": "2022-06-14T02:49:10.837669Z",
     "iopub.status.busy": "2022-06-14T02:49:10.836740Z",
     "iopub.status.idle": "2022-06-14T02:49:10.863810Z",
     "shell.execute_reply": "2022-06-14T02:49:10.862838Z"
    },
    "papermill": {
     "duration": 0.035248,
     "end_time": "2022-06-14T02:49:10.866789",
     "exception": false,
     "start_time": "2022-06-14T02:49:10.831541",
     "status": "completed"
    },
    "tags": []
   },
   "outputs": [],
   "source": [
    "dataset = dataset_builder(train_mode=False)\n",
    "X_test = dataset.X_test\n",
    "ids = dataset.ids"
   ]
  },
  {
   "cell_type": "code",
   "execution_count": 6,
   "id": "0631ac50",
   "metadata": {
    "execution": {
     "iopub.execute_input": "2022-06-14T02:49:10.876281Z",
     "iopub.status.busy": "2022-06-14T02:49:10.875845Z",
     "iopub.status.idle": "2022-06-14T02:49:10.884638Z",
     "shell.execute_reply": "2022-06-14T02:49:10.883639Z"
    },
    "papermill": {
     "duration": 0.016353,
     "end_time": "2022-06-14T02:49:10.887108",
     "exception": false,
     "start_time": "2022-06-14T02:49:10.870755",
     "status": "completed"
    },
    "tags": []
   },
   "outputs": [],
   "source": [
    "pred = search.best_estimator_.predict(X_test)"
   ]
  },
  {
   "cell_type": "code",
   "execution_count": 7,
   "id": "3aaeeb6e",
   "metadata": {
    "execution": {
     "iopub.execute_input": "2022-06-14T02:49:10.896691Z",
     "iopub.status.busy": "2022-06-14T02:49:10.896276Z",
     "iopub.status.idle": "2022-06-14T02:49:10.908384Z",
     "shell.execute_reply": "2022-06-14T02:49:10.907639Z"
    },
    "papermill": {
     "duration": 0.01967,
     "end_time": "2022-06-14T02:49:10.910747",
     "exception": false,
     "start_time": "2022-06-14T02:49:10.891077",
     "status": "completed"
    },
    "tags": []
   },
   "outputs": [],
   "source": [
    "out_df = pd.DataFrame()\n",
    "out_df['PassengerId'] = ids\n",
    "out_df['Survived'] = pred\n",
    "\n",
    "out_df.to_csv('submission.csv', index=None)"
   ]
  },
  {
   "cell_type": "code",
   "execution_count": null,
   "id": "bcc07d3c",
   "metadata": {
    "papermill": {
     "duration": 0.003706,
     "end_time": "2022-06-14T02:49:10.918391",
     "exception": false,
     "start_time": "2022-06-14T02:49:10.914685",
     "status": "completed"
    },
    "tags": []
   },
   "outputs": [],
   "source": []
  }
 ],
 "metadata": {
  "kernelspec": {
   "display_name": "Python 3",
   "language": "python",
   "name": "python3"
  },
  "language_info": {
   "codemirror_mode": {
    "name": "ipython",
    "version": 3
   },
   "file_extension": ".py",
   "mimetype": "text/x-python",
   "name": "python",
   "nbconvert_exporter": "python",
   "pygments_lexer": "ipython3",
   "version": "3.7.12"
  },
  "papermill": {
   "default_parameters": {},
   "duration": 17.725768,
   "end_time": "2022-06-14T02:49:13.547104",
   "environment_variables": {},
   "exception": null,
   "input_path": "__notebook__.ipynb",
   "output_path": "__notebook__.ipynb",
   "parameters": {},
   "start_time": "2022-06-14T02:48:55.821336",
   "version": "2.3.4"
  }
 },
 "nbformat": 4,
 "nbformat_minor": 5
}
